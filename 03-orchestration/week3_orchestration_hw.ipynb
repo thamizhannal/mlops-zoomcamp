{
 "cells": [
  {
   "cell_type": "markdown",
   "metadata": {},
   "source": [
    "# 3.6 Homework\n",
    "\n",
    "The goal of this homework is to familiarize users with workflow orchestration. We start from the solution of homework 1. The notebook can be found below: <br>\n",
    "\n",
    "https://github.com/DataTalksClub/mlops-zoomcamp/blob/main/01-intro/homework.ipynb <br>\n",
    "\n",
    "This has already been converted to a script called homework.py in the 03-orchestration folder of this repo. <br>\n",
    "\n",
    "You will use the FHV dataset like in homework 1. <br>"
   ]
  },
  {
   "cell_type": "markdown",
   "metadata": {},
   "source": [
    "## Q1. Converting the script to a Prefect flow\n",
    " After adding all of the decorators, there is actually one task that you will need to call .result() for inside the flow to get it to work. Which task is this? <br>\n",
    "\n",
    "* read_data\n",
    "* prepare_features\n",
    "* train_model\n",
    "* run_model\n",
    "\n",
    "Important: change all print statements to use the Prefect logger. Using the print statement will not appear in the Prefect UI. You have to call get_run_logger at the start of the task to use it."
   ]
  },
  {
   "cell_type": "markdown",
   "metadata": {},
   "source": [
    "### ANS:\n",
    "```python\n",
    "# train the model\n",
    "lr, dv = train_model(df_train_processed, categorical, date).result()\n",
    "```"
   ]
  },
  {
   "cell_type": "markdown",
   "metadata": {},
   "source": [
    "## Q2. Parameterizing the flow\n",
    "\n",
    "The validation MSE is:\n",
    "\n",
    "* 11.637\n",
    "* 11.837\n",
    "* 12.037\n",
    "* 12.237"
   ]
  },
  {
   "cell_type": "code",
   "execution_count": 3,
   "metadata": {},
   "outputs": [
    {
     "name": "stdout",
     "output_type": "stream",
     "text": [
      "03:13:11.402 | INFO    | prefect.engine - Created flow run 'macho-gorilla' for flow 'main'\n",
      "03:13:11.402 | INFO    | Flow run 'macho-gorilla' - Using task runner 'SequentialTaskRunner'\n",
      "03:13:11.489 | INFO    | Flow run 'macho-gorilla' - Created task run 'read_data-4c7f9de4-0' for task 'read_data'\n",
      "03:13:17.996 | INFO    | Task run 'read_data-4c7f9de4-0' - Finished in state Completed()\n",
      "03:13:18.033 | INFO    | Flow run 'macho-gorilla' - Created task run 'prepare_features-4ee39d9f-0' for task 'prepare_features'\n",
      "03:13:18.284 | INFO    | Task run 'prepare_features-4ee39d9f-0' - The mean duration of training is 18.230538791569668\n",
      "03:13:27.304 | INFO    | Task run 'prepare_features-4ee39d9f-0' - Finished in state Completed()\n",
      "03:13:27.342 | INFO    | Flow run 'macho-gorilla' - Created task run 'read_data-4c7f9de4-1' for task 'read_data'\n",
      "03:13:33.455 | INFO    | Task run 'read_data-4c7f9de4-1' - Finished in state Completed()\n",
      "03:13:33.491 | INFO    | Flow run 'macho-gorilla' - Created task run 'prepare_features-4ee39d9f-1' for task 'prepare_features'\n",
      "03:13:33.690 | INFO    | Task run 'prepare_features-4ee39d9f-1' - The mean duration of validation is 17.911130461380854\n",
      "03:13:42.084 | INFO    | Task run 'prepare_features-4ee39d9f-1' - Finished in state Completed()\n",
      "03:13:42.121 | INFO    | Flow run 'macho-gorilla' - Created task run 'train_model-7c866860-0' for task 'train_model'\n",
      "03:13:47.847 | INFO    | Task run 'train_model-7c866860-0' - The shape of X_train is (1222031, 525)\n",
      "03:13:47.848 | INFO    | Task run 'train_model-7c866860-0' - The DictVectorizer has 525 features\n",
      "03:13:52.825 | INFO    | Task run 'train_model-7c866860-0' - The MSE of training is: 11.7893536759404\n",
      "03:13:52.986 | INFO    | Task run 'train_model-7c866860-0' - Finished in state Completed()\n",
      "03:13:53.021 | INFO    | Flow run 'macho-gorilla' - Created task run 'run_model-6559300c-0' for task 'run_model'\n",
      "03:13:58.268 | INFO    | Task run 'run_model-6559300c-0' - The MSE of validation is: 11.637034411442476\n",
      "03:13:58.410 | INFO    | Task run 'run_model-6559300c-0' - Finished in state Completed()\n",
      "03:14:05.085 | INFO    | Flow run 'macho-gorilla' - Finished in state Completed('All states completed.')\n"
     ]
    }
   ],
   "source": [
    "!python homework.py"
   ]
  },
  {
   "cell_type": "markdown",
   "metadata": {},
   "source": []
  },
  {
   "cell_type": "markdown",
   "metadata": {},
   "source": [
    "### ANS\n",
    "11.637"
   ]
  },
  {
   "cell_type": "markdown",
   "metadata": {},
   "source": [
    "## Q3. Saving the model and artifacts\n",
    "At the moment, we are not saving the model and vectorizer for future use. You don't need a new task for this, you can just add it inside the flow. The requirements for filenames to save it as were mentioned in the Motivation section. They are pasted again here:\n",
    "\n",
    "Save the model as \"model-{date}.bin\" where date is in YYYY-MM-DD. Note that date here is the value of the flow parameter. In practice, this setup makes it very easy to get the latest model to run predictions because you just need to get the most recent one.\n",
    "\n",
    "In this example we use a DictVectorizer. That is needed to run future data through our model. Save that as \"dv-{date}.b\". Similar to above, if the date is 2021-03-15, the files output should be model-2021-03-15.bin and dv-2021-03-15.b.\n",
    "\n",
    "What is the file size of the DictVectorizer that we trained when the date is 2021-08-15?\n",
    "\n",
    "13,000 bytes\n",
    "\n",
    "23,000 bytes\n",
    "\n",
    "33,000 bytes\n",
    "\n",
    "43,000 bytes\n"
   ]
  },
  {
   "cell_type": "code",
   "execution_count": 4,
   "metadata": {},
   "outputs": [
    {
     "name": "stdout",
     "output_type": "stream",
     "text": [
      "total 880\n",
      "-rw-rw-r-- 1 ubuntu ubuntu  13191 Jun 11 03:13 dv-2021-08-15.pkl\n",
      "-rw-rw-r-- 1 ubuntu ubuntu   4581 Jun 11 03:13 model-2021-08-15.pkl\n",
      "drwxrwxr-x 7 ubuntu ubuntu   4096 Jun 11 02:59 ..\n",
      "drwxrwxr-x 2 ubuntu ubuntu   4096 Jun 10 14:40 .\n",
      "-rw-rw-r-- 1 ubuntu ubuntu  13218 Jun 10 14:37 dv-2021-04-01.pkl\n",
      "-rw-rw-r-- 1 ubuntu ubuntu   4589 Jun 10 14:37 model-2021-04-01.pkl\n",
      "-rw-rw-r-- 1 ubuntu ubuntu  13218 Jun 10 13:24 preprocessor.b\n",
      "-rw-rw-r-- 1 ubuntu ubuntu 411381 Jun  6 12:47 lin_reg.bin\n",
      "-rw-rw-r-- 1 ubuntu ubuntu 411381 Jun  6 12:47 lin_reg_expr1.bin\n"
     ]
    }
   ],
   "source": [
    "!ls -alt ./models/"
   ]
  },
  {
   "cell_type": "markdown",
   "metadata": {},
   "source": [
    "### ANS\n",
    "13000 (~13191 bytes)"
   ]
  },
  {
   "cell_type": "markdown",
   "metadata": {},
   "source": [
    "## Q4. Creating a deployment with a CronSchedule\n",
    "What is the Cron expression to run a flow at 9 AM every 15th of the month?\n",
    "<li>\n",
    "<b>* * 15 9 0 </b><br>\n",
    "<b>9 15 * * * </b><br>\n",
    "<b>0 9 15 * * </b><br>\n",
    "<b>0 15 9 1 * </b><br>\n",
    " </li>"
   ]
  },
  {
   "cell_type": "markdown",
   "metadata": {},
   "source": [
    "### ANS:\n",
    "0 9 15 * *\n",
    "```python\n",
    "DeploymentSpec(\n",
    "    flow=main,\n",
    "    name=\"model_training_2021-08-15\",\n",
    "    schedule=CronSchedule(\n",
    "        cron=\"0 9 15 * *\",\n",
    "        timezone=\"America/New_York\"),\n",
    "    flow_runner=SubprocessFlowRunner(),\n",
    "    tags=[\"ml\"]\n",
    ")\n",
    "```"
   ]
  },
  {
   "cell_type": "markdown",
   "metadata": {},
   "source": [
    "### Q5. Viewing the Deployment\n",
    "View the deployment in the UI. When first loading, we may not see that many flows because the default filter is 1 day back and 1 day forward. Remove the filter for 1 day forward to see the scheduled runs.\n",
    "\n",
    "How many flow runs are scheduled by Prefect in advance? You should not be counting manually. There is a number of upcoming runs on the top right of the dashboard.\n",
    "\n",
    "0\n",
    "\n",
    "3\n",
    "\n",
    "10\n",
    "\n",
    "25"
   ]
  },
  {
   "cell_type": "code",
   "execution_count": 5,
   "metadata": {},
   "outputs": [
    {
     "name": "stdout",
     "output_type": "stream",
     "text": [
      "Loading deployment specifications from python script at \u001b[32m'homework.py'\u001b[0m...\n",
      "03:27:21.564 | INFO    | prefect.engine - Created flow run 'crouching-grebe' for flow 'main'\n",
      "03:27:21.564 | INFO    | Flow run 'crouching-grebe' - Using task runner 'SequentialTaskRunner'\n",
      "03:27:21.683 | INFO    | Flow run 'crouching-grebe' - Created task run 'read_data-c914d840-0' for task 'read_data'\n",
      "03:27:28.203 | INFO    | Task run 'read_data-c914d840-0' - Finished in state Completed()\n",
      "03:27:28.237 | INFO    | Flow run 'crouching-grebe' - Created task run 'prepare_features-21588f7a-0' for task 'prepare_features'\n",
      "03:27:28.494 | INFO    | Task run 'prepare_features-21588f7a-0' - The mean duration of training is 18.230538791569668\n",
      "03:27:37.451 | INFO    | Task run 'prepare_features-21588f7a-0' - Finished in state Completed()\n",
      "03:27:37.486 | INFO    | Flow run 'crouching-grebe' - Created task run 'read_data-c914d840-1' for task 'read_data'\n",
      "03:27:43.474 | INFO    | Task run 'read_data-c914d840-1' - Finished in state Completed()\n",
      "03:27:43.512 | INFO    | Flow run 'crouching-grebe' - Created task run 'prepare_features-21588f7a-1' for task 'prepare_features'\n",
      "03:27:43.715 | INFO    | Task run 'prepare_features-21588f7a-1' - The mean duration of validation is 17.911130461380854\n",
      "03:27:52.336 | INFO    | Task run 'prepare_features-21588f7a-1' - Finished in state Completed()\n",
      "03:27:52.370 | INFO    | Flow run 'crouching-grebe' - Created task run 'train_model-4ca07dca-0' for task 'train_model'\n",
      "03:27:58.108 | INFO    | Task run 'train_model-4ca07dca-0' - The shape of X_train is (1222031, 525)\n",
      "03:27:58.108 | INFO    | Task run 'train_model-4ca07dca-0' - The DictVectorizer has 525 features\n",
      "03:28:03.259 | INFO    | Task run 'train_model-4ca07dca-0' - The MSE of training is: 11.7893536759404\n",
      "03:28:03.421 | INFO    | Task run 'train_model-4ca07dca-0' - Finished in state Completed()\n",
      "03:28:03.458 | INFO    | Flow run 'crouching-grebe' - Created task run 'run_model-0dc1f5ad-0' for task 'run_model'\n",
      "03:28:08.839 | INFO    | Task run 'run_model-0dc1f5ad-0' - The MSE of validation is: 11.637034411442476\n",
      "03:28:09.001 | INFO    | Task run 'run_model-0dc1f5ad-0' - Finished in state Completed()\n",
      "03:28:15.667 | INFO    | Flow run 'crouching-grebe' - Finished in state Completed('All states completed.')\n",
      "/home/ubuntu/anaconda3/envs/exp-tracking-env/lib/python3.9/site-packages/prefect/deployments.py:247: UserWarning: You have configured local storage, this deployment will only be usable from the current machine..\n",
      "  warnings.warn(\n",
      "Creating deployment \u001b[1;34m'model_training_2021-08-15'\u001b[0m for flow \u001b[34m'main'\u001b[0m...\n",
      "Deploying flow script from \n",
      "\u001b[32m'/home/ubuntu/mlops-zoomcamp/03-orchestration/homework.py'\u001b[0m using Local \n",
      "Storage...\n",
      "Created deployment \u001b[34m'main/\u001b[0m\u001b[1;34mmodel_training_2021-08-15'\u001b[0m.\n",
      "View your new deployment with: \n",
      "\n",
      "    prefect deployment inspect \u001b[34m'main/\u001b[0m\u001b[1;34mmodel_training_2021-08-15'\u001b[0m\n",
      "\u001b[32mCreated 1 deployments!\u001b[0m\n"
     ]
    }
   ],
   "source": [
    "!prefect deployment create homework.py"
   ]
  },
  {
   "cell_type": "markdown",
   "metadata": {},
   "source": [
    "### ANS \n",
    "4 upcoming Runs"
   ]
  },
  {
   "cell_type": "markdown",
   "metadata": {},
   "source": [
    "### Q6. Creating a work-queue\n",
    "\n",
    "In order to run this flow, you will need an agent and a work queue. Because we scheduled our flow on every month, it won't really get picked up by an agent. For this exercise, create a work-queue from the UI and view it using the CLI.\n",
    "\n",
    "What is the command to view the available work-queues?\n",
    "\n",
    "* prefect work-queue inspect\n",
    "* prefect work-queue ls\n",
    "* prefect work-queue preview\n",
    "* prefect work-queue list\n"
   ]
  },
  {
   "cell_type": "code",
   "execution_count": 8,
   "metadata": {},
   "outputs": [
    {
     "name": "stdout",
     "output_type": "stream",
     "text": [
      "\u001b[3m                             Work Queues                             \u001b[0m\n",
      "┏━━━━━━━━━━━━━━━━━━━━━━━━━━━━━━━━━━━━━━┳━━━━━━━━┳━━━━━━━━━━━━━━━━━━━┓\n",
      "┃\u001b[1m \u001b[0m\u001b[1m                                  ID\u001b[0m\u001b[1m \u001b[0m┃\u001b[1m \u001b[0m\u001b[1mName  \u001b[0m\u001b[1m \u001b[0m┃\u001b[1m \u001b[0m\u001b[1mConcurrency Limit\u001b[0m\u001b[1m \u001b[0m┃\n",
      "┡━━━━━━━━━━━━━━━━━━━━━━━━━━━━━━━━━━━━━━╇━━━━━━━━╇━━━━━━━━━━━━━━━━━━━┩\n",
      "│\u001b[36m \u001b[0m\u001b[36m57b6c7d6-1a4c-4717-8e3e-3074d921018c\u001b[0m\u001b[36m \u001b[0m│\u001b[32m \u001b[0m\u001b[32mglobal\u001b[0m\u001b[32m \u001b[0m│\u001b[34m \u001b[0m\u001b[34mNone\u001b[0m\u001b[34m             \u001b[0m\u001b[34m \u001b[0m│\n",
      "└──────────────────────────────────────┴────────┴───────────────────┘\n",
      "\u001b[31m                     (**) denotes a paused queue                     \u001b[0m\n"
     ]
    }
   ],
   "source": [
    "!prefect work-queue ls"
   ]
  },
  {
   "cell_type": "code",
   "execution_count": null,
   "metadata": {},
   "outputs": [],
   "source": []
  }
 ],
 "metadata": {
  "interpreter": {
   "hash": "28b64ab469a48a0c250e8d59bd611e7be18157868e9c55fbe8ccf7861d9bf740"
  },
  "kernelspec": {
   "display_name": "Python 3.9.12 ('exp-tracking-env')",
   "language": "python",
   "name": "python3"
  },
  "language_info": {
   "codemirror_mode": {
    "name": "ipython",
    "version": 3
   },
   "file_extension": ".py",
   "mimetype": "text/x-python",
   "name": "python",
   "nbconvert_exporter": "python",
   "pygments_lexer": "ipython3",
   "version": "3.9.12"
  },
  "orig_nbformat": 4
 },
 "nbformat": 4,
 "nbformat_minor": 2
}
