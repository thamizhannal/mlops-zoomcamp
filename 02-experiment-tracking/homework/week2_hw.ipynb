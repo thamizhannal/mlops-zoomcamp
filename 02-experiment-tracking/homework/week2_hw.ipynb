{
 "cells": [
  {
   "cell_type": "code",
   "execution_count": null,
   "metadata": {},
   "outputs": [],
   "source": []
  },
  {
   "cell_type": "markdown",
   "metadata": {},
   "source": [
    "### Q1. Install MLflow\n",
    "To get started with MLflow you'll need to install the MLflow Python package.\n",
    "\n",
    "For this we recommend creating a separate Python environment, for example, you can use conda environments, and then install the package there with pip or conda.\n",
    "\n",
    "Once you installed the package, run the command mlflow --version and check the output.\n",
    "\n",
    "What's the version that you have?"
   ]
  },
  {
   "cell_type": "code",
   "execution_count": 1,
   "metadata": {},
   "outputs": [
    {
     "name": "stdout",
     "output_type": "stream",
     "text": [
      "mlflow, version 1.26.1\n"
     ]
    }
   ],
   "source": [
    "!mlflow --version"
   ]
  },
  {
   "cell_type": "markdown",
   "metadata": {},
   "source": [
    "### Q2. Download and preprocess the data\n",
    "We'll use the Green Taxi Trip Records dataset.\n",
    "\n",
    "Download the data for January, February and March 2021 in parquet format from here.\n",
    "\n",
    "Use the script preprocess_data.py located in the folder homework to preprocess the data.\n",
    "\n",
    "The script will\n",
    "\n",
    "load the data from the folder <TAXI_DATA_FOLDER> (the folder where you have downloaded the data),\n",
    "fit a DictVectorizer on the training set (January 2021 data),\n",
    "save the preprocessed datasets and the DictVectorizer to disk\n",
    "Your task is to download the datasets and then execute this command:\n",
    "\n",
    "python preprocess_data.py --raw_data_path <TAXI_DATA_FOLDER> --dest_path ./output\n",
    "Tip: go to 02-experiment-tracking/homework/ folder before executing the command and change the value of <TAXI_DATA_FOLDER> to the location where you saved the data.\n",
    "\n",
    "How many files were saved to OUTPUT_FOLDER?\n",
    "\n",
    "1 <br>\n",
    "3 <br>\n",
    "4 <br>\n",
    "7 <br>"
   ]
  },
  {
   "cell_type": "markdown",
   "metadata": {},
   "source": []
  },
  {
   "cell_type": "code",
   "execution_count": 8,
   "metadata": {},
   "outputs": [
    {
     "data": {
      "text/plain": [
       "'/home/ubuntu/mlops-zoomcamp/02-experiment-tracking/homework'"
      ]
     },
     "execution_count": 8,
     "metadata": {},
     "output_type": "execute_result"
    }
   ],
   "source": [
    "pwd()\n"
   ]
  },
  {
   "cell_type": "code",
   "execution_count": 9,
   "metadata": {},
   "outputs": [
    {
     "name": "stdout",
     "output_type": "stream",
     "text": [
      "--2022-06-02 14:10:14--  https://nyc-tlc.s3.amazonaws.com/trip+data/green_tripdata_2021-01.parquet\n",
      "Resolving nyc-tlc.s3.amazonaws.com (nyc-tlc.s3.amazonaws.com)... 54.231.226.193\n",
      "Connecting to nyc-tlc.s3.amazonaws.com (nyc-tlc.s3.amazonaws.com)|54.231.226.193|:443... connected.\n",
      "HTTP request sent, awaiting response... 200 OK\n",
      "Length: 1333519 (1.3M) [binary/octet-stream]\n",
      "Saving to: ‘data/green_tripdata_2021-01.parquet’\n",
      "\n",
      "green_tripdata_2021 100%[===================>]   1.27M  --.-KB/s    in 0.1s    \n",
      "\n",
      "2022-06-02 14:10:14 (10.9 MB/s) - ‘data/green_tripdata_2021-01.parquet’ saved [1333519/1333519]\n",
      "\n",
      "--2022-06-02 14:10:16--  https://nyc-tlc.s3.amazonaws.com/trip+data/green_tripdata_2021-02.parquet\n",
      "Resolving nyc-tlc.s3.amazonaws.com (nyc-tlc.s3.amazonaws.com)... 54.231.128.1\n",
      "Connecting to nyc-tlc.s3.amazonaws.com (nyc-tlc.s3.amazonaws.com)|54.231.128.1|:443... connected.\n",
      "HTTP request sent, awaiting response... 200 OK\n",
      "Length: 1145679 (1.1M) [binary/octet-stream]\n",
      "Saving to: ‘data/green_tripdata_2021-02.parquet’\n",
      "\n",
      "green_tripdata_2021 100%[===================>]   1.09M  --.-KB/s    in 0.09s   \n",
      "\n",
      "2022-06-02 14:10:17 (11.8 MB/s) - ‘data/green_tripdata_2021-02.parquet’ saved [1145679/1145679]\n",
      "\n",
      "--2022-06-02 14:10:18--  https://nyc-tlc.s3.amazonaws.com/trip+data/green_tripdata_2021-03.parquet\n",
      "Resolving nyc-tlc.s3.amazonaws.com (nyc-tlc.s3.amazonaws.com)... 54.231.128.1\n",
      "Connecting to nyc-tlc.s3.amazonaws.com (nyc-tlc.s3.amazonaws.com)|54.231.128.1|:443... connected.\n",
      "HTTP request sent, awaiting response... 200 OK\n",
      "Length: 1474538 (1.4M) [binary/octet-stream]\n",
      "Saving to: ‘data/green_tripdata_2021-03.parquet’\n",
      "\n",
      "green_tripdata_2021 100%[===================>]   1.41M  --.-KB/s    in 0.1s    \n",
      "\n",
      "2022-06-02 14:10:18 (14.8 MB/s) - ‘data/green_tripdata_2021-03.parquet’ saved [1474538/1474538]\n",
      "\n"
     ]
    }
   ],
   "source": [
    "!mkdir data\n",
    "!wget https://nyc-tlc.s3.amazonaws.com/trip+data/green_tripdata_2021-01.parquet -P data/\n",
    "!wget https://nyc-tlc.s3.amazonaws.com/trip+data/green_tripdata_2021-02.parquet -P data/\n",
    "!wget https://nyc-tlc.s3.amazonaws.com/trip+data/green_tripdata_2021-03.parquet -P data/"
   ]
  },
  {
   "cell_type": "code",
   "execution_count": 10,
   "metadata": {},
   "outputs": [],
   "source": [
    "!mkdir processed_data\n"
   ]
  },
  {
   "cell_type": "code",
   "execution_count": 11,
   "metadata": {},
   "outputs": [
    {
     "name": "stdout",
     "output_type": "stream",
     "text": [
      "green_tripdata_2021-01.parquet\tgreen_tripdata_2021-03.parquet\n",
      "green_tripdata_2021-02.parquet\n"
     ]
    }
   ],
   "source": [
    "!ls data\n"
   ]
  },
  {
   "cell_type": "code",
   "execution_count": 12,
   "metadata": {},
   "outputs": [
    {
     "name": "stdout",
     "output_type": "stream",
     "text": [
      "data\tpreprocess_data.py  register_model.py  week2_hw.ipynb\n",
      "hpo.py\tprocessed_data\t    train.py\n"
     ]
    }
   ],
   "source": [
    "!ls"
   ]
  },
  {
   "cell_type": "code",
   "execution_count": 14,
   "metadata": {},
   "outputs": [
    {
     "name": "stdout",
     "output_type": "stream",
     "text": [
      "/home/ubuntu/mlops-zoomcamp/02-experiment-tracking/homework\n"
     ]
    }
   ],
   "source": [
    "!pwd"
   ]
  },
  {
   "cell_type": "code",
   "execution_count": 16,
   "metadata": {},
   "outputs": [],
   "source": [
    "!python preprocess_data.py --raw_data_path data/ --dest_path processed_data/\n"
   ]
  },
  {
   "cell_type": "code",
   "execution_count": 17,
   "metadata": {},
   "outputs": [
    {
     "name": "stdout",
     "output_type": "stream",
     "text": [
      "dv.pkl\ttest.pkl  train.pkl  valid.pkl\n"
     ]
    }
   ],
   "source": [
    "!ls processed_data/"
   ]
  },
  {
   "cell_type": "markdown",
   "metadata": {},
   "source": [
    "### Q3. Train a model with autolog\n",
    "We will train a random forest regressor (from Scikit-Learn) on the taxi dataset.\n",
    "\n",
    "We have prepared the training script train.py for this exercise, which can be also found in the folder homework. The script will load the datasets produced by the previous step, train the model on the training set and finally calculate the RMSE on the validation set.\n",
    "\n",
    "Your task is to modify the script to enable autologging with MLflow, execute the script and then launch the MLflow UI to check that the experiment run was properly tracked.\n",
    "\n",
    "Tip 1: don't forget to wrap the training code with a with mlflow.start_run(): statement as we showed in the videos.\n",
    "\n",
    "Tip 2: don't modify the hyperparameters of the model to make sure that the training will finish quickly.\n",
    "\n",
    "How many parameters are automatically logged by MLflow?\n",
    "\n",
    "19 <br>\n",
    "17 <br>\n",
    "10 <br>\n",
    "20 <br>"
   ]
  },
  {
   "cell_type": "code",
   "execution_count": 18,
   "metadata": {},
   "outputs": [
    {
     "name": "stdout",
     "output_type": "stream",
     "text": [
      "2022/06/02 14:16:46 INFO mlflow.store.db.utils: Creating initial MLflow database tables...\n",
      "2022/06/02 14:16:46 INFO mlflow.store.db.utils: Updating database tables\n",
      "INFO  [alembic.runtime.migration] Context impl SQLiteImpl.\n",
      "INFO  [alembic.runtime.migration] Will assume non-transactional DDL.\n",
      "INFO  [alembic.runtime.migration] Running upgrade  -> 451aebb31d03, add metric step\n",
      "INFO  [alembic.runtime.migration] Running upgrade 451aebb31d03 -> 90e64c465722, migrate user column to tags\n",
      "INFO  [alembic.runtime.migration] Running upgrade 90e64c465722 -> 181f10493468, allow nulls for metric values\n",
      "INFO  [alembic.runtime.migration] Running upgrade 181f10493468 -> df50e92ffc5e, Add Experiment Tags Table\n",
      "INFO  [alembic.runtime.migration] Running upgrade df50e92ffc5e -> 7ac759974ad8, Update run tags with larger limit\n",
      "INFO  [alembic.runtime.migration] Running upgrade 7ac759974ad8 -> 89d4b8295536, create latest metrics table\n",
      "INFO  [89d4b8295536_create_latest_metrics_table_py] Migration complete!\n",
      "INFO  [alembic.runtime.migration] Running upgrade 89d4b8295536 -> 2b4d017a5e9b, add model registry tables to db\n",
      "INFO  [2b4d017a5e9b_add_model_registry_tables_to_db_py] Adding registered_models and model_versions tables to database.\n",
      "INFO  [2b4d017a5e9b_add_model_registry_tables_to_db_py] Migration complete!\n",
      "INFO  [alembic.runtime.migration] Running upgrade 2b4d017a5e9b -> cfd24bdc0731, Update run status constraint with killed\n",
      "INFO  [alembic.runtime.migration] Running upgrade cfd24bdc0731 -> 0a8213491aaa, drop_duplicate_killed_constraint\n",
      "INFO  [alembic.runtime.migration] Running upgrade 0a8213491aaa -> 728d730b5ebd, add registered model tags table\n",
      "INFO  [alembic.runtime.migration] Running upgrade 728d730b5ebd -> 27a6a02d2cf1, add model version tags table\n",
      "INFO  [alembic.runtime.migration] Running upgrade 27a6a02d2cf1 -> 84291f40a231, add run_link to model_version\n",
      "INFO  [alembic.runtime.migration] Running upgrade 84291f40a231 -> a8c4a736bde6, allow nulls for run_id\n",
      "INFO  [alembic.runtime.migration] Running upgrade a8c4a736bde6 -> 39d1c3be5f05, add_is_nan_constraint_for_metrics_tables_if_necessary\n",
      "INFO  [alembic.runtime.migration] Running upgrade 39d1c3be5f05 -> c48cb773bb87, reset_default_value_for_is_nan_in_metrics_table_for_mysql\n",
      "INFO  [alembic.runtime.migration] Running upgrade c48cb773bb87 -> bd07f7e963c5, create index on run_uuid\n",
      "INFO  [alembic.runtime.migration] Context impl SQLiteImpl.\n",
      "INFO  [alembic.runtime.migration] Will assume non-transactional DDL.\n",
      "2022/06/02 14:16:46 INFO mlflow.tracking.fluent: Experiment with name 'homework2_duration_prediction' does not exist. Creating a new experiment.\n",
      "2022/06/02 14:17:14 WARNING mlflow.utils.autologging_utils: MLflow autologging encountered a warning: \"/home/ubuntu/anaconda3/envs/exp-tracking-env/lib/python3.9/site-packages/_distutils_hack/__init__.py:30: UserWarning: Setuptools is replacing distutils.\"\n"
     ]
    }
   ],
   "source": [
    "!python train.py --data_path processed_data/\n"
   ]
  },
  {
   "cell_type": "markdown",
   "metadata": {},
   "source": [
    "#### output\n",
    "Parameters (17) <br>\n",
    "Name\tValue <br>\n",
    "bootstrap\tTrue <br>\n",
    "ccp_alpha\t0.0 <br>\n",
    "criterion\tsquared_error <br>\n",
    "max_depth\t10 <br>\n",
    "max_features\t1.0 <br>\n",
    "max_leaf_nodes\tNone <br>\n",
    "max_samples\tNone <br>\n",
    "min_impurity_decrease\t0.0 <br>\n",
    "min_samples_leaf\t1 <br>\n",
    "min_samples_split\t2 <br>\n",
    "min_weight_fraction_leaf\t0.0 <br>\n",
    "n_estimators\t100 <br>\n",
    "n_jobs\tNone <br>\n",
    "oob_score\tFalse <br>\n",
    "random_state\t0 <br>\n",
    "verbose\t0 <br>\n",
    "warm_start\tFalse <br>"
   ]
  },
  {
   "cell_type": "markdown",
   "metadata": {},
   "source": []
  },
  {
   "cell_type": "markdown",
   "metadata": {},
   "source": [
    "#### Q4. Launch the tracking server locally\n",
    "We want to manage the entire lifecycle of our ML model. In this step, you'll need to launch a tracking server. This way we will also have access to the model registry.\n",
    "\n",
    "Your task is to\n",
    "\n",
    "launch the tracking server on your local machine\n",
    "select a SQLite db for the backend store and a folder called artifacts for the artifacts store\n",
    "You should keep the tracking server running to work on the next two exercises that use the server.\n",
    "\n",
    "In addition to backend-store-uri, what else do you need to pass to properly configure the server?\n",
    "\n",
    "default-artifact-root <br>\n",
    "serve-artifacts <br>\n",
    "artifacts-only <br>\n",
    "artifacts-destination <br>"
   ]
  },
  {
   "cell_type": "markdown",
   "metadata": {},
   "source": []
  },
  {
   "cell_type": "code",
   "execution_count": 20,
   "metadata": {},
   "outputs": [],
   "source": [
    "import mlflow\n",
    "mlflow.end_run()\n"
   ]
  },
  {
   "cell_type": "code",
   "execution_count": 23,
   "metadata": {},
   "outputs": [
    {
     "name": "stdout",
     "output_type": "stream",
     "text": [
      "ubuntu     23651   23463  0 14:25 pts/3    00:00:00 /bin/bash -c ps -ef| grep mlfow\n",
      "ubuntu     23653   23651  0 14:25 pts/3    00:00:00 grep mlfow\n"
     ]
    }
   ],
   "source": [
    "!ps -ef| grep mlfow"
   ]
  },
  {
   "cell_type": "code",
   "execution_count": 25,
   "metadata": {},
   "outputs": [
    {
     "name": "stdout",
     "output_type": "stream",
     "text": [
      "2022/06/02 14:25:33 INFO mlflow.store.db.utils: Creating initial MLflow database tables...\n",
      "2022/06/02 14:25:33 INFO mlflow.store.db.utils: Updating database tables\n",
      "INFO  [alembic.runtime.migration] Context impl SQLiteImpl.\n",
      "INFO  [alembic.runtime.migration] Will assume non-transactional DDL.\n",
      "INFO  [alembic.runtime.migration] Running upgrade  -> 451aebb31d03, add metric step\n",
      "INFO  [alembic.runtime.migration] Running upgrade 451aebb31d03 -> 90e64c465722, migrate user column to tags\n",
      "INFO  [alembic.runtime.migration] Running upgrade 90e64c465722 -> 181f10493468, allow nulls for metric values\n",
      "INFO  [alembic.runtime.migration] Running upgrade 181f10493468 -> df50e92ffc5e, Add Experiment Tags Table\n",
      "INFO  [alembic.runtime.migration] Running upgrade df50e92ffc5e -> 7ac759974ad8, Update run tags with larger limit\n",
      "INFO  [alembic.runtime.migration] Running upgrade 7ac759974ad8 -> 89d4b8295536, create latest metrics table\n",
      "INFO  [89d4b8295536_create_latest_metrics_table_py] Migration complete!\n",
      "INFO  [alembic.runtime.migration] Running upgrade 89d4b8295536 -> 2b4d017a5e9b, add model registry tables to db\n",
      "INFO  [2b4d017a5e9b_add_model_registry_tables_to_db_py] Adding registered_models and model_versions tables to database.\n",
      "INFO  [2b4d017a5e9b_add_model_registry_tables_to_db_py] Migration complete!\n",
      "INFO  [alembic.runtime.migration] Running upgrade 2b4d017a5e9b -> cfd24bdc0731, Update run status constraint with killed\n",
      "INFO  [alembic.runtime.migration] Running upgrade cfd24bdc0731 -> 0a8213491aaa, drop_duplicate_killed_constraint\n",
      "INFO  [alembic.runtime.migration] Running upgrade 0a8213491aaa -> 728d730b5ebd, add registered model tags table\n",
      "INFO  [alembic.runtime.migration] Running upgrade 728d730b5ebd -> 27a6a02d2cf1, add model version tags table\n",
      "INFO  [alembic.runtime.migration] Running upgrade 27a6a02d2cf1 -> 84291f40a231, add run_link to model_version\n",
      "INFO  [alembic.runtime.migration] Running upgrade 84291f40a231 -> a8c4a736bde6, allow nulls for run_id\n",
      "INFO  [alembic.runtime.migration] Running upgrade a8c4a736bde6 -> 39d1c3be5f05, add_is_nan_constraint_for_metrics_tables_if_necessary\n",
      "INFO  [alembic.runtime.migration] Running upgrade 39d1c3be5f05 -> c48cb773bb87, reset_default_value_for_is_nan_in_metrics_table_for_mysql\n",
      "INFO  [alembic.runtime.migration] Running upgrade c48cb773bb87 -> bd07f7e963c5, create index on run_uuid\n",
      "INFO  [alembic.runtime.migration] Context impl SQLiteImpl.\n",
      "INFO  [alembic.runtime.migration] Will assume non-transactional DDL.\n",
      "[2022-06-02 14:25:33 +0000] [23658] [INFO] Starting gunicorn 20.1.0\n",
      "[2022-06-02 14:25:33 +0000] [23658] [ERROR] Connection in use: ('127.0.0.1', 5000)\n",
      "[2022-06-02 14:25:33 +0000] [23658] [ERROR] Retrying in 1 second.\n",
      "[2022-06-02 14:25:34 +0000] [23658] [ERROR] Connection in use: ('127.0.0.1', 5000)\n",
      "[2022-06-02 14:25:34 +0000] [23658] [ERROR] Retrying in 1 second.\n",
      "[2022-06-02 14:25:35 +0000] [23658] [ERROR] Connection in use: ('127.0.0.1', 5000)\n",
      "[2022-06-02 14:25:35 +0000] [23658] [ERROR] Retrying in 1 second.\n",
      "[2022-06-02 14:25:36 +0000] [23658] [ERROR] Connection in use: ('127.0.0.1', 5000)\n",
      "[2022-06-02 14:25:36 +0000] [23658] [ERROR] Retrying in 1 second.\n",
      "[2022-06-02 14:25:37 +0000] [23658] [ERROR] Connection in use: ('127.0.0.1', 5000)\n",
      "[2022-06-02 14:25:37 +0000] [23658] [ERROR] Retrying in 1 second.\n",
      "[2022-06-02 14:25:38 +0000] [23658] [ERROR] Can't connect to ('127.0.0.1', 5000)\n",
      "Running the mlflow server failed. Please see the logs above for details.\n"
     ]
    }
   ],
   "source": [
    "!mlflow server --backend-store-uri sqlite:///mlflow_week2.db --default-artifact-root ./artifacts_local"
   ]
  },
  {
   "cell_type": "code",
   "execution_count": 26,
   "metadata": {},
   "outputs": [
    {
     "name": "stdout",
     "output_type": "stream",
     "text": [
      "  11811 ?        00:00:25 gunicorn\n",
      "  15527 ?        00:00:03 gunicorn\n",
      "  15528 ?        00:00:03 gunicorn\n",
      "  15529 ?        00:00:03 gunicorn\n",
      "  15530 ?        00:00:04 gunicorn\n"
     ]
    }
   ],
   "source": [
    "!ps -A | grep gunicorn"
   ]
  },
  {
   "cell_type": "code",
   "execution_count": 28,
   "metadata": {},
   "outputs": [],
   "source": [
    "!kill -9 11811 15527 15528 15529 15530"
   ]
  },
  {
   "cell_type": "code",
   "execution_count": 32,
   "metadata": {},
   "outputs": [
    {
     "name": "stdout",
     "output_type": "stream",
     "text": [
      "[2022-06-02 15:08:08 +0000] [24508] [INFO] Starting gunicorn 20.1.0\n",
      "[2022-06-02 15:08:08 +0000] [24508] [INFO] Listening at: http://127.0.0.1:5000 (24508)\n",
      "[2022-06-02 15:08:08 +0000] [24508] [INFO] Using worker: sync\n",
      "[2022-06-02 15:08:08 +0000] [24509] [INFO] Booting worker with pid: 24509\n",
      "[2022-06-02 15:08:08 +0000] [24510] [INFO] Booting worker with pid: 24510\n",
      "[2022-06-02 15:08:08 +0000] [24511] [INFO] Booting worker with pid: 24511\n",
      "[2022-06-02 15:08:08 +0000] [24512] [INFO] Booting worker with pid: 24512\n"
     ]
    }
   ],
   "source": [
    "!mlflow server --backend-store-uri sqlite:///mlflow.db --default-artifact-root ./artifacts_local"
   ]
  },
  {
   "cell_type": "markdown",
   "metadata": {},
   "source": [
    "#### default-artifact-root is the optional parameter."
   ]
  },
  {
   "cell_type": "markdown",
   "metadata": {},
   "source": [
    "### Q5. Tune the hyperparameters of the model\n",
    "Now let's try to reduce the validation error by tuning the hyperparameters of the random forest regressor using hyperopt.\n",
    "\n",
    "We have prepared the script hpo.py for this exercise.\n",
    "\n",
    "Your task is to modify the script hpo.py and make sure that the validation RMSE is logged to MLflow for each run of the hyperparameter optimization (you will need to add a few lines of code to the objective function) and run the script without passing any parameters.\n",
    "\n",
    "After that, open the MLflow UI and explore the runs from the experiment called random-forest-hyperopt to answer the question below.\n",
    "\n",
    "Important: don't use autologging for this exercise.\n",
    "\n",
    "The idea is to just log the information that you need to answer the question below, including:\n",
    "\n",
    "the list of hyperparameters that are passed to the objective function during the optimization.\n",
    "the RMSE obtained on the validation set (February 2021 data).\n",
    "What's the best validation RMSE that you got?\n",
    "\n",
    "6.128 <br>\n",
    "6.628 <br>\n",
    "7.128 <br>\n",
    "7.628 <br>"
   ]
  },
  {
   "cell_type": "markdown",
   "metadata": {},
   "source": [
    "\n",
    "(exp-tracking-env) ubuntu@ip-172-31-4-164:~/mlops-zoomcamp/02-experiment-tracking/homework$ python hpo.py --data_path processed_data/\n",
    "100%|█████████████████████████████████████████████████████████████████████████████████████████| 50/50 [08:44<00:00, 10.48s/trial, best loss: 6.6284257482044735]\n",
    "(exp-tracking-env) ubuntu@ip-172-31-4-164:~/mlops-zoomcamp/02-experiment-tracking/homework$ "
   ]
  },
  {
   "cell_type": "markdown",
   "metadata": {},
   "source": [
    "### Q6. Promote the best model to the model registry\n",
    "The results from the hyperparameter optimization are quite good so we can assume that we are ready to test some of these models in production. In this exercise, you'll promote the best model to the model registry. We have prepared a script called register_model.py, which will check the results from the previous step and select the top 5 runs. After that, it will calculate the RMSE of those models on the test set (March 2021 data) and save the results to a new experiment called random-forest-best-models.\n",
    "\n",
    "Your task is to update the script register_model.py so that it selects the model with the lowest RMSE on the test set and registers it to the model registry.\n",
    "\n",
    "Tip 1: you can use the method search_runs from the MlflowClient to get the model with the lowest RMSE. <br>\n",
    "Tip 2: to register the model you can use the method mlflow.register_model and you will need to pass the right model_uri in the form of a string that looks like this: \"runs:/<RUN_ID>/model\", and the name of the model (make sure to choose a good one!). <br>\n",
    "\n",
    "What is the test RMSE of the best model? <br>\n",
    "\n",
    "6.1 <br>\n",
    "6.55 <br>\n",
    "7.93 <br>\n",
    "15.1 <br>"
   ]
  },
  {
   "cell_type": "markdown",
   "metadata": {},
   "source": []
  },
  {
   "cell_type": "code",
   "execution_count": null,
   "metadata": {},
   "outputs": [],
   "source": [
    "!python register_model.py --data_path processed_data/\n"
   ]
  },
  {
   "cell_type": "code",
   "execution_count": null,
   "metadata": {},
   "outputs": [],
   "source": [
    "(exp-tracking-env) ubuntu@ip-172-31-4-164:~/mlops-zoomcamp/02-experiment-tracking/homework$ python register_model.py --data_path processed_data/\n",
    "2022/06/02 17:22:32 WARNING mlflow.utils.autologging_utils: MLflow autologging encountered a warning: \"/home/ubuntu/anaconda3/envs/exp-tracking-env/lib/python3.9/site-packages/_distutils_hack/__init__.py:30: UserWarning: Setuptools is replacing distutils.\"\n",
    "valid_rmse:6.6284257482044735, test_rmse:6.547886185595423\n",
    "valid_rmse:6.629728007710133, test_rmse:6.549816636724069\n",
    "valid_rmse:6.629851022038263, test_rmse:6.549081827157288\n",
    "valid_rmse:6.629851022038263, test_rmse:6.549081827157288\n",
    "valid_rmse:6.629893219637507, test_rmse:6.548852722401935\n",
    "Best Model URI:runs/24735831704841bcbbdc1ded69fe1387/models\n",
    "Successfully registered model 'RandomForestRegressionModel'.\n",
    "2022/06/02 17:24:06 INFO mlflow.tracking._model_registry.client: Waiting up to 300 seconds for model version to finish creation.                     Model name: RandomForestRegressionModel, version 1\n",
    "Created version '1' of model 'RandomForestRegressionModel'.\n",
    "(exp-tracking-env) ubuntu@ip-172-31-4-164:~/mlops-zoomcamp/02-experiment-tracking/homework$ "
   ]
  }
 ],
 "metadata": {
  "interpreter": {
   "hash": "28b64ab469a48a0c250e8d59bd611e7be18157868e9c55fbe8ccf7861d9bf740"
  },
  "kernelspec": {
   "display_name": "Python 3.9.12 ('exp-tracking-env')",
   "language": "python",
   "name": "python3"
  },
  "language_info": {
   "codemirror_mode": {
    "name": "ipython",
    "version": 3
   },
   "file_extension": ".py",
   "mimetype": "text/x-python",
   "name": "python",
   "nbconvert_exporter": "python",
   "pygments_lexer": "ipython3",
   "version": "3.9.12"
  },
  "orig_nbformat": 4
 },
 "nbformat": 4,
 "nbformat_minor": 2
}
